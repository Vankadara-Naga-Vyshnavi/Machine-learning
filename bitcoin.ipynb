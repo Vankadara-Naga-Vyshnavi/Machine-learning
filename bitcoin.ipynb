{
  "nbformat": 4,
  "nbformat_minor": 0,
  "metadata": {
    "colab": {
      "name": "bitcoin.ipynb",
      "provenance": [],
      "collapsed_sections": [],
      "authorship_tag": "ABX9TyOcd/5Y9ei4r0S3BbB1nsfe",
      "include_colab_link": true
    },
    "kernelspec": {
      "name": "python3",
      "display_name": "Python 3"
    }
  },
  "cells": [
    {
      "cell_type": "markdown",
      "metadata": {
        "id": "view-in-github",
        "colab_type": "text"
      },
      "source": [
        "<a href=\"https://colab.research.google.com/github/Vankadara-Naga-Vyshnavi/Machine-learning/blob/master/bitcoin.ipynb\" target=\"_parent\"><img src=\"https://colab.research.google.com/assets/colab-badge.svg\" alt=\"Open In Colab\"/></a>"
      ]
    },
    {
      "cell_type": "code",
      "metadata": {
        "id": "ABtbp0Msr5wp",
        "colab_type": "code",
        "outputId": "bfe548e6-2d42-48e9-9b7c-c39c06d266a3",
        "colab": {
          "base_uri": "https://localhost:8080/",
          "height": 122
        }
      },
      "source": [
        "from google.colab import drive\n",
        "drive.mount('/content/drive',force_remount=True)"
      ],
      "execution_count": 0,
      "outputs": [
        {
          "output_type": "stream",
          "text": [
            "Go to this URL in a browser: https://accounts.google.com/o/oauth2/auth?client_id=947318989803-6bn6qk8qdgf4n4g3pfee6491hc0brc4i.apps.googleusercontent.com&redirect_uri=urn%3aietf%3awg%3aoauth%3a2.0%3aoob&response_type=code&scope=email%20https%3a%2f%2fwww.googleapis.com%2fauth%2fdocs.test%20https%3a%2f%2fwww.googleapis.com%2fauth%2fdrive%20https%3a%2f%2fwww.googleapis.com%2fauth%2fdrive.photos.readonly%20https%3a%2f%2fwww.googleapis.com%2fauth%2fpeopleapi.readonly\n",
            "\n",
            "Enter your authorization code:\n",
            "··········\n",
            "Mounted at /content/drive\n"
          ],
          "name": "stdout"
        }
      ]
    },
    {
      "cell_type": "code",
      "metadata": {
        "id": "xcyJNeIjnQph",
        "colab_type": "code",
        "outputId": "c5244959-95e4-461d-b4dd-eae2884a3806",
        "colab": {
          "base_uri": "https://localhost:8080/",
          "height": 34
        }
      },
      "source": [
        "import pandas\n",
        "df=pandas.read_csv('/content/drive/My Drive/Classroom/bitcoin.csv')\n",
        "df['Date'].count()\n",
        "df['Open'].count()\n",
        "df['Close'].count()"
      ],
      "execution_count": 0,
      "outputs": [
        {
          "output_type": "execute_result",
          "data": {
            "text/plain": [
              "90"
            ]
          },
          "metadata": {
            "tags": []
          },
          "execution_count": 3
        }
      ]
    },
    {
      "cell_type": "code",
      "metadata": {
        "id": "ygc-3ERX119k",
        "colab_type": "code",
        "outputId": "a6de7ce0-f415-403c-eb03-d35d97a61249",
        "colab": {
          "base_uri": "https://localhost:8080/",
          "height": 527
        }
      },
      "source": [
        "import numpy as np\n",
        "x=np.array(df['Date'])[:90]\n",
        "print(x)\n",
        "x1=np.array(df['Open'])[:90]\n",
        "x2=np.array(df['Close'])[:90]\n",
        "x3=x1-x2\n",
        "print(x3)"
      ],
      "execution_count": 0,
      "outputs": [
        {
          "output_type": "stream",
          "text": [
            "['01-01-17' '02-01-17' '03-01-17' '04-01-17' '05-01-17' '06-01-17'\n",
            " '07-01-17' '08-01-17' '09-01-17' '10-01-17' '11-01-17' '12-01-17'\n",
            " '13-01-17' '14-01-17' '15-01-17' '16-01-17' '17-01-17' '18-01-17'\n",
            " '19-01-17' '20-01-17' '21-01-17' '22-01-17' '23-01-17' '24-01-17'\n",
            " '25-01-17' '26-01-17' '27-01-17' '28-01-17' '29-01-17' '30-01-17'\n",
            " '31-01-17' '01-02-17' '02-02-17' '03-02-17' '04-02-17' '05-02-17'\n",
            " '06-02-17' '07-02-17' '08-02-17' '09-02-17' '10-02-17' '11-02-17'\n",
            " '12-02-17' '13-02-17' '14-02-17' '15-02-17' '16-02-17' '17-02-17'\n",
            " '18-02-17' '19-02-17' '20-02-17' '21-02-17' '22-02-17' '23-02-17'\n",
            " '24-02-17' '25-02-17' '26-02-17' '27-02-17' '28-02-17' '01-03-17'\n",
            " '02-03-17' '03-03-17' '04-03-17' '05-03-17' '06-03-17' '07-03-17'\n",
            " '08-03-17' '09-03-17' '10-03-17' '11-03-17' '12-03-17' '13-03-17'\n",
            " '14-03-17' '15-03-17' '16-03-17' '17-03-17' '18-03-17' '19-03-17'\n",
            " '20-03-17' '21-03-17' '22-03-17' '23-03-17' '24-03-17' '25-03-17'\n",
            " '26-03-17' '27-03-17' '28-03-17' '29-03-17' '30-03-17' '31-03-17']\n",
            "[ 2.2490e+01 -4.6000e+01 -6.2900e+01 -1.4000e+02  1.4200e+02  1.5010e+01\n",
            " -2.5500e+01  6.5490e+01 -3.7500e+01 -1.0000e+00  1.5400e+02 -4.9990e+01\n",
            " -2.1950e+01  2.0000e+00  2.6990e+01  2.4600e+02 -2.4000e+02  4.9000e+01\n",
            " -4.8000e+01 -2.5000e+00 -4.0200e+00 -1.0000e-01 -2.5990e+01 -1.0990e+01\n",
            " -3.5200e+00 -1.7480e+01  3.5000e+00  9.9000e+00  4.0200e+00 -1.2000e+01\n",
            " -4.5010e+01 -1.0900e+01 -1.1100e+01  5.0000e+00 -2.1500e+01 -9.9800e+00\n",
            " -3.9700e+00 -4.5990e+01  1.2500e+01  6.1620e+01  0.0000e+00 -1.8990e+01\n",
            "  4.0000e+00  2.4000e+01 -4.7000e+01  1.2000e+01 -2.2000e+01 -4.0000e+01\n",
            "  1.0990e+01  1.6500e+01 -2.7500e+01 -7.6800e+01 -2.1000e+01 -3.0990e+01\n",
            "  5.2000e-01  1.1000e+01  1.6980e+01 -7.5490e+01  2.6490e+01 -3.9000e+01\n",
            " -4.0470e+01 -3.5990e+01 -1.2000e+01  2.8480e+01 -1.7990e+01  2.8000e+01\n",
            "  8.6970e+01 -6.9650e+01  6.2000e+01 -3.2050e+01 -2.6110e+01  1.3860e+01\n",
            " -1.2000e+01 -1.1010e+01  4.2000e+01  5.7000e+01  1.4010e+02 -1.0000e+02\n",
            " -2.7000e+01 -4.6450e+01  5.9520e+01  1.2450e+01  1.1200e+02 -1.2097e+02\n",
            " -2.9990e+01 -6.5000e+01 -4.3010e+01  4.1000e+01  1.6000e+01 -1.0000e+01]\n"
          ],
          "name": "stdout"
        }
      ]
    },
    {
      "cell_type": "code",
      "metadata": {
        "id": "zLWiAiKrsQdd",
        "colab_type": "code",
        "outputId": "ba2a54e4-0966-4523-b3f0-74b0b1aa9d19",
        "colab": {
          "base_uri": "https://localhost:8080/",
          "height": 279
        }
      },
      "source": [
        "import matplotlib.pyplot as plt\n",
        "plt.plot(np.sin(np.linspace(0,2*np.pi)),'r+-')\n",
        "plt.xlabel('Date')\n",
        "plt.ylabel('gross profit or loss')\n",
        "plt.plot(['x','x3'],'r+-')\n",
        "plt.show()"
      ],
      "execution_count": 0,
      "outputs": [
        {
          "output_type": "display_data",
          "data": {
            "image/png": "[encoded data removed]",
            "text/plain": [
              "<Figure size 432x288 with 1 Axes>"
            ]
          },
          "metadata": {
            "tags": [],
            "needs_background": "light"
          }
        }
      ]
    }
  ]
}